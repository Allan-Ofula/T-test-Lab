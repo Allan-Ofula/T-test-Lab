


import numpy as np
from scipy import stats
import seaborn as sns
import matplotlib.pyplot as plt

sns.set_style('whitegrid')

get_ipython().run_line_magic("config", " InlineBackend.figure_format = 'retina'")
get_ipython().run_line_magic("matplotlib", " inline")


# Use this sample data to conduct experimentation

control = np.array([166, 165, 120,  94, 104, 166,  98,  85,  97,  87, 114, 100, 152,
                    87, 152, 102,  82,  80,  84, 109,  98, 154, 135, 164, 137, 128,
                    122, 146,  86, 146,  85, 101, 109, 105, 163, 136, 142, 144, 140,
                    128, 126, 119, 121, 126, 169,  87,  97, 167,  89, 155])

experimental = np.array([ 83, 100, 123,  75, 130,  77,  78,  87, 116, 116, 141,  93, 107,
                         101, 142, 152, 130, 123, 122, 154, 119, 149, 106, 107, 108, 151,
                         97,  95, 104, 141,  80, 110, 136, 134, 142, 135, 111,  83,  86,
                         116,  86, 117,  87, 143, 104, 107,  86,  88, 124,  76])






# Create a plot showing overlapping of distribution means and sds for inspection

# Plot the distribution of control and experimental groups
plt.figure(figsize=(8, 6))
sns.histplot(control, color='blue', label='Control', kde=True, stat='density')
sns.histplot(experimental, color='red', label='Experimental', kde=True, stat='density')
plt.legend()
plt.xlabel("Systolic Blood Pressure")
plt.ylabel("Density")
plt.title("Distribution of Blood Pressure in Control and Experimental Groups")
plt.show()





# -9.819999999999993

mean_difference = np.mean(experimental) - np.mean(control)
print(f"Mean Difference: {mean_difference}")





def sample_variance(sample):
    return np.var(sample, ddof=1)  





def pooled_variance(sample1, sample2):
    n1, n2 = len(sample1), len(sample2)
    var1, var2 = sample_variance(sample1), sample_variance(sample2)
    return ((n1 - 1) * var1 + (n2 - 1) * var2) / (n1 + n2 - 2)





def twosample_tstatistic(expr, ctrl):
    mean1, mean2 = np.mean(expr), np.mean(ctrl)
    pooled_var = pooled_variance(expr, ctrl)
    n1, n2 = len(expr), len(ctrl)
    return (mean1 - mean2) / np.sqrt(pooled_var * (1/n1 + 1/n2))

t_stat = twosample_tstatistic(experimental, control)
print(f"T-Statistic: {t_stat}")
# -1.8915462966190268





def visualize_t(t_stat, n_control, n_experimental, alpha=0.05):
    # Degrees of freedom for two independent samples
    df = (n_control + n_experimental - 2)  

    # Generate x-axis values from -4 to 4
    x = np.linspace(-4, 4, 1000)
    
    # Compute the t-distribution curve
    y = stats.t.pdf(x, df)

    # Critical values for two-tailed test
    critical_t = stats.t.ppf(1 - alpha/2, df)

    # Initialize figure and plot t-distribution
    plt.figure(figsize=(8, 5))
    plt.plot(x, y, label=f"t-Distribution (df={df})", color='blue')

    # Highlight the rejection regions
    plt.fill_between(x, y, where=(x <= -critical_t) | (x >= critical_t), 
                     color='red', alpha=0.3, label="Rejection Region")

    # Draw vertical lines for critical t-values
    plt.axvline(-critical_t, color='red', linestyle='dashed', label=f"-t_critical = {-critical_t:.2f}")
    plt.axvline(critical_t, color='red', linestyle='dashed', label=f"t_critical = {critical_t:.2f}")

    # Draw vertical line for observed t-statistic
    plt.axvline(t_stat, color='green', linestyle='solid', linewidth=2, label=f"t_stat = {t_stat:.2f}")

    # Labels and legend
    plt.title("T-Distribution with Critical Values")
    plt.xlabel("t-value")
    plt.ylabel("Probability Density")
    plt.legend()
    plt.grid()

    # Show the plot
    plt.show()

# Example usage:
n_control = 20
n_experimental = 20
t_stat = 2.1

visualize_t(t_stat, n_control, n_experimental)








## Calculate p_value
# Lower tail comulative density function returns area under the lower tail curve
lower_tail = stats.t.cdf(-1.89, (50+50-2), 0, 1)
# Upper tail comulative density function returns area under upper tail curve
upper_tail = 1. - stats.t.cdf(1.89, (50+50-2), 0, 1)

p_value = lower_tail+upper_tail
print(p_value)





## your code here

lower_tail = stats.t.cdf(-abs(t_stat), n_control + n_experimental - 2)
upper_tail = 1 - stats.t.cdf(abs(t_stat), n_control + n_experimental - 2)
p_value = lower_tail + upper_tail
print(f"P-Value: {p_value}")

'''
Calculates the t-test for the means of *two independent* samples of scores.

This is a two-sided test for the null hypothesis that 2 independent samples
have identical average (expected) values. This test assumes that the
populations have identical variances by default.
'''

stats.ttest_ind(experimental, control)



